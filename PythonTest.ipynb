{
  "nbformat": 4,
  "nbformat_minor": 0,
  "metadata": {
    "colab": {
      "provenance": [],
      "authorship_tag": "ABX9TyN9bW3dQU69qitqo2dzAZuf",
      "include_colab_link": true
    },
    "kernelspec": {
      "name": "python3",
      "display_name": "Python 3"
    },
    "language_info": {
      "name": "python"
    }
  },
  "cells": [
    {
      "cell_type": "markdown",
      "metadata": {
        "id": "view-in-github",
        "colab_type": "text"
      },
      "source": [
        "<a href=\"https://colab.research.google.com/github/wawawa100/PythonTest/blob/main/PythonTest.ipynb\" target=\"_parent\"><img src=\"https://colab.research.google.com/assets/colab-badge.svg\" alt=\"Open In Colab\"/></a>"
      ]
    },
    {
      "cell_type": "code",
      "execution_count": null,
      "metadata": {
        "colab": {
          "base_uri": "https://localhost:8080/"
        },
        "id": "RVQOSjb4CGkJ",
        "outputId": "1dfe1d27-1825-43d9-b98c-e86129b77eb3"
      },
      "outputs": [
        {
          "output_type": "execute_result",
          "data": {
            "text/plain": [
              "2"
            ]
          },
          "metadata": {},
          "execution_count": 1
        }
      ],
      "source": [
        "1+1"
      ]
    },
    {
      "cell_type": "code",
      "source": [
        "import io\n",
        "import requests\n",
        "import PIL.Image\n",
        "\n",
        "response = requests.get(\"https://www.python.jp/logo.png\")\n",
        "PIL.Image.open(io.BytesIO(response.content))"
      ],
      "metadata": {
        "colab": {
          "base_uri": "https://localhost:8080/",
          "height": 97
        },
        "id": "XUXb9L7FCXGB",
        "outputId": "b093d8e1-0bb5-4313-ee2b-0b2136e5fb3b"
      },
      "execution_count": null,
      "outputs": [
        {
          "output_type": "execute_result",
          "data": {
            "text/plain": [
              "<PIL.PngImagePlugin.PngImageFile image mode=RGBA size=240x80>"
            ],
            "image/png": "[encoded data removed]"
          },
          "metadata": {},
          "execution_count": 2
        }
      ]
    },
    {
      "cell_type": "code",
      "source": [
        "import matplotlib.pyplot as plt\n",
        "\n",
        "x_values = ['Jan', 'Feb', 'Mar', 'Apr', 'May', 'June']\n",
        "y_values = [100, 130, 80, 150, 140, 130]\n",
        "\n",
        "plt.bar(x_values, y_values)\n",
        "plt.plot()\n",
        "\n",
        "plt.show()"
      ],
      "metadata": {
        "colab": {
          "base_uri": "https://localhost:8080/",
          "height": 430
        },
        "id": "h4WTCwkHDC6J",
        "outputId": "790bdbdc-5b1d-4364-90f8-28266c0286bf"
      },
      "execution_count": null,
      "outputs": [
        {
          "output_type": "display_data",
          "data": {
            "text/plain": [
              "<Figure size 640x480 with 1 Axes>"
            ],
            "image/png": "[encoded data removed]"
          },
          "metadata": {}
        }
      ]
    },
    {
      "cell_type": "code",
      "source": [
        "100 * 5 + 40 * 8"
      ],
      "metadata": {
        "colab": {
          "base_uri": "https://localhost:8080/"
        },
        "id": "pzxa598WDRc2",
        "outputId": "5d50476d-3ad2-4d34-cb5a-dcd4e2ddf84c"
      },
      "execution_count": null,
      "outputs": [
        {
          "output_type": "execute_result",
          "data": {
            "text/plain": [
              "820"
            ]
          },
          "metadata": {},
          "execution_count": 4
        }
      ]
    },
    {
      "cell_type": "code",
      "source": [
        "momo = 100 * 5\n",
        "mikan = 40 * 8\n",
        "nashi = 80 * 5\n",
        "kiwi = 60 * 9\n",
        "suika = 90 * 20\n",
        "kaki = 110 + 10\n",
        "\n",
        "momo + mikan + nashi + kiwi + suika + kaki"
      ],
      "metadata": {
        "colab": {
          "base_uri": "https://localhost:8080/"
        },
        "id": "7GMnf-z1D6PB",
        "outputId": "471e0ac6-2cbf-403b-e556-f448ec0e6ff4"
      },
      "execution_count": null,
      "outputs": [
        {
          "output_type": "execute_result",
          "data": {
            "text/plain": [
              "3680"
            ]
          },
          "metadata": {},
          "execution_count": 5
        }
      ]
    },
    {
      "cell_type": "code",
      "source": [
        "import calendar # calendarモジュールを使用する\n",
        "calendar.prmonth(2024, 11) # 2024年11月のカレンダーを表示する"
      ],
      "metadata": {
        "id": "Ex1XaL5oG-I3",
        "colab": {
          "base_uri": "https://localhost:8080/"
        },
        "outputId": "2c044b41-38c6-44a1-f92d-a47db2c8e9c3"
      },
      "execution_count": null,
      "outputs": [
        {
          "output_type": "stream",
          "name": "stdout",
          "text": [
            "   November 2024\n",
            "Mo Tu We Th Fr Sa Su\n",
            "             1  2  3\n",
            " 4  5  6  7  8  9 10\n",
            "11 12 13 14 15 16 17\n",
            "18 19 20 21 22 23 24\n",
            "25 26 27 28 29 30\n"
          ]
        }
      ]
    },
    {
      "cell_type": "code",
      "source": [
        "# 実行時に文字列入力を可能にする\n",
        "InputText = input('lowerメソッドの確認をするため、大文字のアルファベットを入力してください：')\n",
        "\n",
        "# 入力されたテキストを小文字に変換する\n",
        "DispText = InputText.lower()\n",
        "\n",
        "# 結果を表示する\n",
        "print('変換結果：' + DispText)\n"
      ],
      "metadata": {
        "colab": {
          "base_uri": "https://localhost:8080/"
        },
        "id": "EsfoyA9mQDpX",
        "outputId": "f75a9830-09ae-4a2a-e96f-8cc4a14d4167"
      },
      "execution_count": 14,
      "outputs": [
        {
          "output_type": "stream",
          "name": "stdout",
          "text": [
            "lowerメソッドの確認をするため、大文字のアルファベットを入力してください：AAA\n",
            "変換結果：aaa\n"
          ]
        }
      ]
    },
    {
      "cell_type": "code",
      "source": [],
      "metadata": {
        "id": "BSKHfwhMUWOT"
      },
      "execution_count": null,
      "outputs": []
    }
  ]
}
